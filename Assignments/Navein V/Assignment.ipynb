{
 "cells": [
  {
   "cell_type": "code",
   "execution_count": 1,
   "id": "0921a77e",
   "metadata": {},
   "outputs": [
    {
     "name": "stdout",
     "output_type": "stream",
     "text": [
      "Enter a number: 5\n",
      "5 is a prime number\n"
     ]
    }
   ],
   "source": [
    "#1.Python Program to check prime number\n",
    "\n",
    "num = int(input(\"Enter a number: \"))\n",
    "\n",
    "flag = False\n",
    "\n",
    "if num > 1:\n",
    "    for i in range(2, num):\n",
    "        if (num % i) == 0:\n",
    "            flag = True\n",
    "            break\n",
    "\n",
    "if flag:\n",
    "    print(num, \"is not a prime number\")\n",
    "else:\n",
    "    print(num, \"is a prime number\")\n",
    "\n"
   ]
  },
  {
   "cell_type": "code",
   "execution_count": 13,
   "id": "21b6d173",
   "metadata": {},
   "outputs": [
    {
     "name": "stdout",
     "output_type": "stream",
     "text": [
      "Enter the start of range:1\n",
      "Enter the end of range:10\n",
      "1\n",
      "3\n",
      "5\n",
      "7\n",
      "9\n"
     ]
    }
   ],
   "source": [
    "# 2.Python program to print odd number in a given range\n",
    "\n",
    "start = int(input(\"Enter the start of range:\"))\n",
    "end = int(input(\"Enter the end of range:\"))\n",
    " \n",
    "while(start<=end):\n",
    "    if start% 2 != 0:\n",
    "        print(start)\n",
    "    start+=1"
   ]
  },
  {
   "cell_type": "code",
   "execution_count": 12,
   "id": "9d35131a",
   "metadata": {},
   "outputs": [
    {
     "name": "stdout",
     "output_type": "stream",
     "text": [
      "Enter limit34\n",
      "2 3 5 7 11 13 17 19 23 29 31 "
     ]
    }
   ],
   "source": [
    "# 3.python program to print prime numbers\n",
    "\n",
    "def isPrime(n):\n",
    "  if(n==1 or n==0):\n",
    "    return False\n",
    "    \n",
    "  for i in range(2,n):\n",
    "    if(n%i==0):\n",
    "      return False\n",
    "    \n",
    "  return True\n",
    "  \n",
    "  \n",
    "  \n",
    "\n",
    "N = int(input(\"Enter limit\"));\n",
    "for i in range(1,N+1):\n",
    "  if(isPrime(i)):\n",
    "    print(i,end=\" \")"
   ]
  },
  {
   "cell_type": "code",
   "execution_count": 11,
   "id": "954739db",
   "metadata": {},
   "outputs": [
    {
     "name": "stdout",
     "output_type": "stream",
     "text": [
      "enter number9\n",
      "34\n"
     ]
    }
   ],
   "source": [
    "#4.Python program to print Fibonacci number\n",
    "def Fibonacci(n):\n",
    "   \n",
    "    if n < 0:\n",
    "        print(\"Incorrect input\")\n",
    "\n",
    "    elif n == 0:\n",
    "        return 0\n",
    " \n",
    "    elif n == 1 or n == 2:\n",
    "        return 1\n",
    " \n",
    "    else:\n",
    "        return Fibonacci(n-1) + Fibonacci(n-2)\n",
    "num=int(input(\"enter number\"))\n",
    "print(Fibonacci(num))"
   ]
  },
  {
   "cell_type": "code",
   "execution_count": null,
   "id": "e3956203",
   "metadata": {},
   "outputs": [],
   "source": []
  }
 ],
 "metadata": {
  "kernelspec": {
   "display_name": "Python 3 (ipykernel)",
   "language": "python",
   "name": "python3"
  },
  "language_info": {
   "codemirror_mode": {
    "name": "ipython",
    "version": 3
   },
   "file_extension": ".py",
   "mimetype": "text/x-python",
   "name": "python",
   "nbconvert_exporter": "python",
   "pygments_lexer": "ipython3",
   "version": "3.9.12"
  }
 },
 "nbformat": 4,
 "nbformat_minor": 5
}
